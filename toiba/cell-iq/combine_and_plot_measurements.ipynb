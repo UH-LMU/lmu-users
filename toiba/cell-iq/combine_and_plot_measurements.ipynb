{
 "cells": [
  {
   "cell_type": "code",
   "execution_count": null,
   "metadata": {},
   "outputs": [],
   "source": [
    "import pandas as pd\n",
    "from pathlib import Path\n",
    "\n",
    "datadir = Path('/work/data/mushtaq/cellIQ 30.06.2020 20ulseeding a2WT a3TRI b2Afa b3Magi c2Occ c3LSR/output')\n",
    "\n",
    "wells = datadir.glob('Well*')\n",
    "\n",
    "# this will contain all data\n",
    "df = pd.DataFrame()\n",
    "\n",
    "for w in wells:\n",
    "    print(w)\n",
    "    files = (w / \"ar\").glob(\"*.csv\")\n",
    "    for f in files:\n",
    "        #print(f)\n",
    "        tmp = pd.read_csv(f)\n",
    "        \n",
    "        # add a column that shows which well the numbers are from\n",
    "        tmp[\"Well\"] = w.stem\n",
    "        \n",
    "        # add a column that shows the timepoint\n",
    "        timestr = f.stem.replace(\"_segmentation_results\",\"\")\n",
    "        timestr = timestr.split('_')\n",
    "        timestr = \"_\".join(timestr[:5])\n",
    "        tmp['Timepoint'] = timestr\n",
    "        tmp['Timepoint'] = pd.to_datetime(tmp['Timepoint'], format='%Y_%m_%d_%H_%M')\n",
    "        \n",
    "        # add to the main dataframe\n",
    "        df = df.append(tmp, ignore_index=True)\n",
    "\n"
   ]
  },
  {
   "cell_type": "code",
   "execution_count": null,
   "metadata": {},
   "outputs": [],
   "source": [
    "# add a column that show time from start of experiment\n",
    "start_time = df['Timepoint'].min()\n",
    "df['T'] = df['Timepoint'] - start_time\n",
    "df.head()"
   ]
  },
  {
   "cell_type": "code",
   "execution_count": null,
   "metadata": {},
   "outputs": [],
   "source": [
    "# write data to one .csv\n",
    "df.to_csv(datadir / 'all_measurements_in_one_file.csv', index=False)\n"
   ]
  },
  {
   "cell_type": "code",
   "execution_count": null,
   "metadata": {},
   "outputs": [],
   "source": [
    "# combine the AR data in another dataframe, take mean over timepoint\n",
    "mean_ar = pd.pivot_table(df, index='T', columns='Well', values='AR', aggfunc='mean')\n",
    "\n",
    "# write mean AR data in one .csv\n",
    "mean_ar.to_csv(datadir / 'mean_ar_all_in_one_file.csv', index=False)\n",
    "\n",
    "mean_ar.head()"
   ]
  },
  {
   "cell_type": "code",
   "execution_count": null,
   "metadata": {},
   "outputs": [],
   "source": [
    "import matplotlib.pyplot as plt\n",
    "\n",
    "# prepare to plot data\n",
    "fig,ax = plt.subplots(figsize=(25,15))\n",
    "\n",
    "# loop over wells\n",
    "for c in mean_ar.columns:\n",
    "    print(c)\n",
    "    \n",
    "    # The NaN values on mean_ar cause problems for plotting.\n",
    "    # Workaround is to... create a new dataframe, keep\n",
    "    keep = [c]\n",
    "    # ...make copy of the data\n",
    "    tmp = mean_ar.copy()\n",
    "    # ...keep only the interesting column (well)\n",
    "    tmp = tmp.drop(tmp.columns.difference(keep), axis=1) \n",
    "    # ...drop NaN values\n",
    "    tmp = tmp.dropna()\n",
    "\n",
    "    # plot the data\n",
    "    tmp.plot(ax=ax)\n",
    "\n",
    "# set y axis range\n",
    "plt.ylim(1,5)\n",
    "# set y axis label\n",
    "plt.ylabel('Mean AR')\n",
    "\n",
    "tmp.head()"
   ]
  },
  {
   "cell_type": "code",
   "execution_count": null,
   "metadata": {},
   "outputs": [],
   "source": [
    "df.AR.min()"
   ]
  },
  {
   "cell_type": "code",
   "execution_count": null,
   "metadata": {},
   "outputs": [],
   "source": [
    "df.AR.max()"
   ]
  },
  {
   "cell_type": "code",
   "execution_count": null,
   "metadata": {},
   "outputs": [],
   "source": []
  }
 ],
 "metadata": {
  "kernelspec": {
   "display_name": "Python 3",
   "language": "python",
   "name": "python3"
  },
  "language_info": {
   "codemirror_mode": {
    "name": "ipython",
    "version": 3
   },
   "file_extension": ".py",
   "mimetype": "text/x-python",
   "name": "python",
   "nbconvert_exporter": "python",
   "pygments_lexer": "ipython3",
   "version": "3.7.7"
  }
 },
 "nbformat": 4,
 "nbformat_minor": 4
}
