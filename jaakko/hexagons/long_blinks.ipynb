{
 "cells": [
  {
   "cell_type": "code",
   "execution_count": null,
   "metadata": {},
   "outputs": [],
   "source": [
    "#make IPython notebook matplotlib plot inline\n",
    "%matplotlib inline \n",
    "\n",
    "#import modules and libraries\n",
    "import glob\n",
    "import matplotlib.pyplot as plt\n",
    "import numpy as np\n",
    "import pandas as pd \n",
    "from pathlib import Path\n",
    "from PIL import Image\n",
    "from scipy import ndimage\n",
    "from skimage import measure\n",
    "from skimage.io import imread,imsave\n",
    "\n",
    "INPUT_DIR = '/mnt/med-groups-lmu/ls1/users/j/jilehtim/HARRI/PYTHON_INPUT'\n",
    "OUTPUT_DIR = '/mnt/med-groups-lmu/ls1/users/j/jilehtim/HARRI/PYTHON_OUTPUT'\n",
    "\n",
    "INPUT_DIR = Path(INPUT_DIR)\n",
    "if not INPUT_DIR.is_dir():\n",
    "    raise ValueError('Please check INPUT_DIR.')\n",
    "\n",
    "OUTPUT_DIR = Path(OUTPUT_DIR)\n",
    "if not OUTPUT_DIR.is_dir():\n",
    "    raise ValueError('Please check OUTPUT_DIR.')\n",
    "\n",
    "MIN_FRAMES = 4\n"
   ]
  },
  {
   "cell_type": "code",
   "execution_count": null,
   "metadata": {},
   "outputs": [],
   "source": [
    "\n",
    "def process(file):\n",
    "    print(str(file))\n",
    "    im = imread(str(file), plugin=\"tifffile\")\n",
    "    print(im.shape)\n",
    "    print(im.dtype)\n",
    "\n",
    "    # select white pixels into blobs\n",
    "    blobs = im == 255\n",
    "    # label blobs\n",
    "    labels = measure.label(blobs)\n",
    "    # measure labeled blobs\n",
    "    props = measure.regionprops_table(labels)\n",
    "    # read measurements into a dataframe\n",
    "    df = pd.DataFrame(props)\n",
    "    # add column for and calculate blink duration\n",
    "    df['duration'] = df['bbox-3'] - df['bbox-0']\n",
    "\n",
    "    print(df.shape)\n",
    "    print(df.head())\n",
    "\n",
    "    # filter out short blinks\n",
    "    df = df[df['duration'] >= MIN_FRAMES]\n",
    "    print(df.shape)\n",
    "    long_blinks = df.label.values\n",
    "    print(long_blinks)\n",
    "\n",
    "    # set label to zero in labels image if the label is not in long_blinks\n",
    "    ul = np.unique(labels)\n",
    "    for l in ul:\n",
    "        if l not in long_blinks:\n",
    "            labels[labels==l] = 0\n",
    "\n",
    "    # save modified labels image\n",
    "    from skimage import img_as_uint\n",
    "    labels = img_as_uint(labels)\n",
    "    output = OUTPUT_DIR / (file.stem + '_long_blinks.ome.tif')\n",
    "    print(str(output))\n",
    "    imsave(str(output),labels)\n",
    "\n",
    "    # save measurements\n",
    "    output = OUTPUT_DIR / (file.stem + '_long_blinks.csv')\n",
    "    print(str(output))\n",
    "    df.to_csv(output, index=False)\n",
    "    \n",
    "    return labels\n",
    "    \n",
    "    \n",
    "# process all .ome.tif files in input directory    \n",
    "files = INPUT_DIR.glob('*.ome.tif')\n",
    "labels = None\n",
    "for f in files:\n",
    "    file = INPUT_DIR / f\n",
    "    if not file.exists():\n",
    "        raise ValueError('Please check file name: ' + str(file))\n",
    "    labels = process(f)\n",
    "\n",
    "   \n",
    "    \n",
    "    "
   ]
  },
  {
   "cell_type": "code",
   "execution_count": null,
   "metadata": {},
   "outputs": [],
   "source": [
    "z=35\n",
    "fig, axs = plt.subplots(1, 2, figsize=(15, 10))\n",
    "axs[0].imshow(labels[z],cmap='coolwarm')\n",
    "axs[1].imshow(labels[z],cmap='coolwarm')"
   ]
  },
  {
   "cell_type": "code",
   "execution_count": null,
   "metadata": {},
   "outputs": [],
   "source": [
    "help(imsave)"
   ]
  },
  {
   "cell_type": "code",
   "execution_count": null,
   "metadata": {},
   "outputs": [],
   "source": []
  }
 ],
 "metadata": {
  "kernelspec": {
   "display_name": "Python 3",
   "language": "python",
   "name": "python3"
  },
  "language_info": {
   "codemirror_mode": {
    "name": "ipython",
    "version": 3
   },
   "file_extension": ".py",
   "mimetype": "text/x-python",
   "name": "python",
   "nbconvert_exporter": "python",
   "pygments_lexer": "ipython3",
   "version": "3.7.7"
  }
 },
 "nbformat": 4,
 "nbformat_minor": 4
}
