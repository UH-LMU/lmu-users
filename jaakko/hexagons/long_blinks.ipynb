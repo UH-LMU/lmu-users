{
 "cells": [
  {
   "cell_type": "code",
   "execution_count": 1,
   "metadata": {},
   "outputs": [
    {
     "ename": "ModuleNotFoundError",
     "evalue": "No module named 'PIL'",
     "output_type": "error",
     "traceback": [
      "\u001b[0;31m---------------------------------------------------------------------------\u001b[0m",
      "\u001b[0;31mModuleNotFoundError\u001b[0m                       Traceback (most recent call last)",
      "\u001b[0;32m<ipython-input-1-d4c870634abd>\u001b[0m in \u001b[0;36m<module>\u001b[0;34m\u001b[0m\n\u001b[1;32m      8\u001b[0m \u001b[0;32mimport\u001b[0m \u001b[0mpandas\u001b[0m \u001b[0;32mas\u001b[0m \u001b[0mpd\u001b[0m\u001b[0;34m\u001b[0m\u001b[0;34m\u001b[0m\u001b[0m\n\u001b[1;32m      9\u001b[0m \u001b[0;32mfrom\u001b[0m \u001b[0mpathlib\u001b[0m \u001b[0;32mimport\u001b[0m \u001b[0mPath\u001b[0m\u001b[0;34m\u001b[0m\u001b[0;34m\u001b[0m\u001b[0m\n\u001b[0;32m---> 10\u001b[0;31m \u001b[0;32mfrom\u001b[0m \u001b[0mPIL\u001b[0m \u001b[0;32mimport\u001b[0m \u001b[0mImage\u001b[0m\u001b[0;34m\u001b[0m\u001b[0;34m\u001b[0m\u001b[0m\n\u001b[0m\u001b[1;32m     11\u001b[0m \u001b[0;32mfrom\u001b[0m \u001b[0mscipy\u001b[0m \u001b[0;32mimport\u001b[0m \u001b[0mndimage\u001b[0m\u001b[0;34m\u001b[0m\u001b[0;34m\u001b[0m\u001b[0m\n\u001b[1;32m     12\u001b[0m \u001b[0;32mfrom\u001b[0m \u001b[0mskimage\u001b[0m \u001b[0;32mimport\u001b[0m \u001b[0mmeasure\u001b[0m\u001b[0;34m\u001b[0m\u001b[0;34m\u001b[0m\u001b[0m\n",
      "\u001b[0;31mModuleNotFoundError\u001b[0m: No module named 'PIL'"
     ]
    }
   ],
   "source": [
    "#make IPython notebook matplotlib plot inline\n",
    "%matplotlib inline \n",
    "\n",
    "#import modules and libraries\n",
    "import glob\n",
    "import matplotlib.pyplot as plt\n",
    "import numpy as np\n",
    "import pandas as pd \n",
    "from pathlib import Path\n",
    "from PIL import Image\n",
    "from scipy import ndimage\n",
    "from skimage import measure\n",
    "from skimage.io import imread,imsave\n",
    "\n",
    "INPUT_DIR = '/mnt/med-groups-lmu/ls1/users/j/jilehtim/HARRI/PYTHON_INPUT'\n",
    "OUTPUT_DIR = '/mnt/med-groups-lmu/ls1/users/j/jilehtim/HARRI/PYTHON_OUTPUT'\n",
    "\n",
    "INPUT_DIR = Path(INPUT_DIR)\n",
    "if not INPUT_DIR.is_dir():\n",
    "    raise ValueError('Please check INPUT_DIR.')\n",
    "\n",
    "OUTPUT_DIR = Path(OUTPUT_DIR)\n",
    "if not OUTPUT_DIR.is_dir():\n",
    "    raise ValueError('Please check OUTPUT_DIR.')\n",
    "\n",
    "MIN_FRAMES = 4\n"
   ]
  },
  {
   "cell_type": "code",
   "execution_count": 36,
   "metadata": {},
   "outputs": [
    {
     "name": "stdout",
     "output_type": "stream",
     "text": [
      "PYTHON_INPUT/timetubes2.ome.tif\n",
      "(181, 1024, 1024)\n",
      "uint8\n",
      "(43, 8)\n",
      "   label  bbox-0  bbox-1  bbox-2  bbox-3  bbox-4  bbox-5  duration\n",
      "0      1       5     568     704       6     584     718         1\n",
      "1      2       7     568     704       9     584     718         2\n",
      "2      3      21     628     697      23     644     711         2\n",
      "3      4      22     592     718      23     608     732         1\n",
      "4      5      22     628     669      23     644     683         1\n",
      "(10, 8)\n",
      "[ 6  7 13 16 18 21 23 27 35 41]\n"
     ]
    },
    {
     "name": "stderr",
     "output_type": "stream",
     "text": [
      "/home/hajaalin/anaconda3/lib/python3.7/site-packages/skimage/util/dtype.py:454: UserWarning: Downcasting int64 to uint16 without scaling because max value 41 fits in uint16\n",
      "  return convert(image, np.uint16, force_copy)\n"
     ]
    },
    {
     "name": "stdout",
     "output_type": "stream",
     "text": [
      "PYTHON_OUTPUT/timetubes2.ome_long_blinks.ome.tif\n"
     ]
    },
    {
     "name": "stderr",
     "output_type": "stream",
     "text": [
      "/home/hajaalin/anaconda3/lib/python3.7/site-packages/ipykernel_launcher.py:38: UserWarning: PYTHON_OUTPUT/timetubes2.ome_long_blinks.ome.tif is a low contrast image\n"
     ]
    },
    {
     "name": "stdout",
     "output_type": "stream",
     "text": [
      "PYTHON_OUTPUT/timetubes2.ome_long_blinks.csv\n"
     ]
    }
   ],
   "source": [
    "\n",
    "def process(file):\n",
    "    print(str(file))\n",
    "    im = imread(str(file), plugin=\"tifffile\")\n",
    "    print(im.shape)\n",
    "    print(im.dtype)\n",
    "\n",
    "    # select white pixels into blobs\n",
    "    blobs = im == 255\n",
    "    # label blobs\n",
    "    labels = measure.label(blobs)\n",
    "    # measure labeled blobs\n",
    "    props = measure.regionprops_table(labels)\n",
    "    # read measurements into a dataframe\n",
    "    df = pd.DataFrame(props)\n",
    "    # add column for and calculate blink duration\n",
    "    df['duration'] = df['bbox-3'] - df['bbox-0']\n",
    "\n",
    "    print(df.shape)\n",
    "    print(df.head())\n",
    "\n",
    "    # filter out short blinks\n",
    "    df = df[df['duration'] >= MIN_FRAMES]\n",
    "    print(df.shape)\n",
    "    long_blinks = df.label.values\n",
    "    print(long_blinks)\n",
    "\n",
    "    # set label to zero in labels image if the label is not in long_blinks\n",
    "    ul = np.unique(labels)\n",
    "    for l in ul:\n",
    "        if l not in long_blinks:\n",
    "            labels[labels==l] = 0\n",
    "\n",
    "    # save modified labels image\n",
    "    from skimage import img_as_uint\n",
    "    labels = img_as_uint(labels)\n",
    "    output = OUTPUT_DIR / (file.stem + '_long_blinks.ome.tif')\n",
    "    print(str(output))\n",
    "    imsave(str(output),labels)\n",
    "\n",
    "    # save measurements\n",
    "    output = OUTPUT_DIR / (file.stem + '_long_blinks.csv')\n",
    "    print(str(output))\n",
    "    df.to_csv(output, index=False)\n",
    "    \n",
    "    return labels\n",
    "    \n",
    "    \n",
    "# process all .ome.tif files in input directory    \n",
    "files = INPUT_DIR.glob('*.ome.tif')\n",
    "labels = None\n",
    "for f in files:\n",
    "    FILE = DATA_DIR / f\n",
    "    if not FILE.exists():\n",
    "        raise ValueError('Please check FILE_NAME.')\n",
    "    labels = process(f)\n",
    "\n",
    "   \n",
    "    \n",
    "    "
   ]
  },
  {
   "cell_type": "code",
   "execution_count": 38,
   "metadata": {},
   "outputs": [
    {
     "data": {
      "text/plain": [
       "<matplotlib.image.AxesImage at 0x7f742153a1d0>"
      ]
     },
     "execution_count": 38,
     "metadata": {},
     "output_type": "execute_result"
    },
    {
     "data": {
      "image/png": "[encoded data removed]",
      "text/plain": [
       "<Figure size 1080x720 with 2 Axes>"
      ]
     },
     "metadata": {
      "needs_background": "light"
     },
     "output_type": "display_data"
    }
   ],
   "source": [
    "z=35\n",
    "fig, axs = plt.subplots(1, 2, figsize=(15, 10))\n",
    "axs[0].imshow(labels[z],cmap='coolwarm')\n",
    "axs[1].imshow(labels[z],cmap='coolwarm')"
   ]
  },
  {
   "cell_type": "code",
   "execution_count": 25,
   "metadata": {},
   "outputs": [
    {
     "name": "stdout",
     "output_type": "stream",
     "text": [
      "Help on function imsave in module skimage.io._io:\n",
      "\n",
      "imsave(fname, arr, plugin=None, check_contrast=True, **plugin_args)\n",
      "    Save an image to file.\n",
      "    \n",
      "    Parameters\n",
      "    ----------\n",
      "    fname : str\n",
      "        Target filename.\n",
      "    arr : ndarray of shape (M,N) or (M,N,3) or (M,N,4)\n",
      "        Image data.\n",
      "    plugin : str, optional\n",
      "        Name of plugin to use.  By default, the different plugins are\n",
      "        tried (starting with imageio) until a suitable\n",
      "        candidate is found.  If not given and fname is a tiff file, the\n",
      "        tifffile plugin will be used.\n",
      "    check_contrast : bool, optional\n",
      "        Check for low contrast and print warning (default: True).\n",
      "    \n",
      "    Other parameters\n",
      "    ----------------\n",
      "    plugin_args : keywords\n",
      "        Passed to the given plugin.\n",
      "    \n",
      "    Notes\n",
      "    -----\n",
      "    When saving a JPEG, the compression ratio may be controlled using the\n",
      "    ``quality`` keyword argument which is an integer with values in [1, 100]\n",
      "    where 1 is worst quality and smallest file size, and 100 is best quality\n",
      "    and largest file size (default 75).  This is only available when using\n",
      "    the PIL and imageio plugins.\n",
      "\n"
     ]
    }
   ],
   "source": [
    "help(imsave)"
   ]
  },
  {
   "cell_type": "code",
   "execution_count": null,
   "metadata": {},
   "outputs": [],
   "source": []
  }
 ],
 "metadata": {
  "kernelspec": {
   "display_name": "Python 3",
   "language": "python",
   "name": "python3"
  },
  "language_info": {
   "codemirror_mode": {
    "name": "ipython",
    "version": 3
   },
   "file_extension": ".py",
   "mimetype": "text/x-python",
   "name": "python",
   "nbconvert_exporter": "python",
   "pygments_lexer": "ipython3",
   "version": "3.8.1"
  }
 },
 "nbformat": 4,
 "nbformat_minor": 4
}
