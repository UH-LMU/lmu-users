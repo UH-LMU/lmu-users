{
 "cells": [
  {
   "cell_type": "code",
   "execution_count": 2,
   "id": "909a2647-18ff-4f14-81e6-4f328786a981",
   "metadata": {},
   "outputs": [],
   "source": [
    "from pathlib import Path"
   ]
  },
  {
   "cell_type": "code",
   "execution_count": 10,
   "id": "1d6468f3-fe6b-418f-9b74-2feef7ebcc00",
   "metadata": {},
   "outputs": [
    {
     "name": "stdout",
     "output_type": "stream",
     "text": [
      "L:\\lmu_active2\\users\\m\\margauxh\\test\\Plate1\\Well D2_01\\2025_07_10_00_07_54_32.tif\n",
      "L:\\lmu_active2\\users\\m\\margauxh\\test\\Plate1\\Well D2_01\\2025_07_10_00_37_53_06.tif\n",
      "L:\\lmu_active2\\users\\m\\margauxh\\test\\Plate1\\Well D2_03\\2025_07_10_03_38_29_18.tif\n",
      "L:\\lmu_active2\\users\\m\\margauxh\\test\\Plate1\\Well D2_03\\2025_07_10_06_08_30_18.tif\n",
      "L:\\lmu_active2\\users\\m\\margauxh\\test\\Plate1\\Well D2_03\\2025_07_10_06_38_30_97.tif\n",
      "L:\\lmu_active2\\users\\m\\margauxh\\test\\Plate1\\Well D2_03\\2025_07_10_07_08_34_58.tif\n"
     ]
    }
   ],
   "source": [
    "plate = Path(r'L:\\lmu_active2\\users\\m\\margauxh\\test\\Plate1')\n",
    "labels = Path(r'L:\\lmu_active2\\users\\m\\margauxh\\test\\Plate1_output_mh20250710a_confluent')\n",
    "tifs = plate.glob('*/*.tif')\n",
    "for t in tifs:\n",
    "    well = t.parts[-2]\n",
    "    base = t.stem\n",
    "    label = labels / well / (base + '_cp_masks.png')\n",
    "    if not label.exists():\n",
    "        print(t)"
   ]
  },
  {
   "cell_type": "code",
   "execution_count": null,
   "id": "4d40b44a-8caf-4f7e-9f0f-51db73cf838a",
   "metadata": {},
   "outputs": [],
   "source": []
  }
 ],
 "metadata": {
  "kernelspec": {
   "display_name": "Python 3 (ipykernel)",
   "language": "python",
   "name": "python3"
  },
  "language_info": {
   "codemirror_mode": {
    "name": "ipython",
    "version": 3
   },
   "file_extension": ".py",
   "mimetype": "text/x-python",
   "name": "python",
   "nbconvert_exporter": "python",
   "pygments_lexer": "ipython3",
   "version": "3.13.3"
  }
 },
 "nbformat": 4,
 "nbformat_minor": 5
}
